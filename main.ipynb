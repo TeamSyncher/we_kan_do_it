{
 "cells": [
  {
   "cell_type": "markdown",
   "metadata": {
    "colab_type": "text",
    "id": "view-in-github"
   },
   "source": [
    "<a href=\"https://colab.research.google.com/github/mmmhdp/we_kan_do_it/blob/dev/main.ipynb\" target=\"_parent\"><img src=\"https://colab.research.google.com/assets/colab-badge.svg\" alt=\"Open In Colab\"/></a>"
   ]
  },
  {
   "cell_type": "markdown",
   "metadata": {
    "id": "bPc7pBJ7a9DI"
   },
   "source": [
    "<p align=\"center\">\n",
    "  <h1 align=\"center\"></h1>\n",
    "  <h1 align=\"center\">GPT2 c KAN слоями. Тех разбор</h1>\n",
    "  <p align=\"center\">\n",
    "    <a href=\"https://github.com/mmmhdp\">Мальцев Никита</a>\n",
    "    ·\n",
    "    <a href=\"https://github.com/anyhhope\">Надежда Анисимова</a>\n",
    "    ·\n",
    "    <a href=\"https://github.com/TeamSyncher\">Ярослав Исаков</a>\n",
    "    ·\n",
    "    <a href=\"https://github.com/staryarych\">Ярослав Столбовский</a>\n",
    "    ·\n",
    "    <a href=\"https://github.com/Mariiiiiiiia\">Мария Бородкина</a>\n",
    "    \n",
    "</p>\n",
    "   <h3 align=\"center\">\n",
    "        <a href=\"https://github.com/mmmhdp/we_kan_do_it\">GitHub</a> |\n",
    "        <a href=\"https://www.loom.com/share/7a8caa786faf4b74bfa99fe040e9f549\">Video Presentation</a> |\n",
    "        <a href=\"\">Raw Presentation</a>\n",
    "   </h3>\n",
    "  <div align=\"center\"></div>\n",
    "</p>"
   ]
  },
  {
   "cell_type": "markdown",
   "metadata": {
    "id": "D7tpA-HIlYcN"
   },
   "source": [
    "# Введение\n",
    "краткое введение"
   ]
  },
  {
   "cell_type": "markdown",
   "metadata": {
    "id": "RshOoPFEh96b"
   },
   "source": [
    "## Постановка задачи\n",
    "- Имплементировать KAN.\n",
    "- Оценить рост эффективности KAN в сравнении с MLP на базовых задачах.\n",
    "- Оценить рост эффективности работы GPT2 модели по ряду выбранных метрик, если будет произведен замена MLP слоя на KAN слой."
   ]
  },
  {
   "cell_type": "code",
   "execution_count": null,
   "metadata": {
    "id": "h7m4-AzomgD2"
   },
   "outputs": [],
   "source": []
  },
  {
   "cell_type": "markdown",
   "metadata": {
    "id": "-5y39ftjilEb"
   },
   "source": [
    "## Описание используемых данных\n",
    "Тут могла быть ваша реклама"
   ]
  },
  {
   "cell_type": "code",
   "execution_count": null,
   "metadata": {
    "id": "i1XMycKnmhCk"
   },
   "outputs": [],
   "source": []
  },
  {
   "cell_type": "markdown",
   "metadata": {
    "id": "QYwjzPL7jXWY"
   },
   "source": [
    "### Предобработка данных\n",
    "Тут могла быть ваша реклама\n"
   ]
  },
  {
   "cell_type": "code",
   "execution_count": null,
   "metadata": {
    "id": "zlOL1TVHmn7Q"
   },
   "outputs": [],
   "source": []
  },
  {
   "cell_type": "markdown",
   "metadata": {
    "id": "lXqrOPqTmjvS"
   },
   "source": [
    "### Токенизация\n",
    "Тут могла быть ваша реклама\n"
   ]
  },
  {
   "cell_type": "code",
   "execution_count": null,
   "metadata": {
    "id": "cNxsm71Xmm63"
   },
   "outputs": [],
   "source": []
  },
  {
   "cell_type": "markdown",
   "metadata": {
    "id": "2GgnobpgmmB1"
   },
   "source": [
    "### Разбиение на выборки\n",
    "Тут могла быть ваша реклама"
   ]
  },
  {
   "cell_type": "code",
   "execution_count": null,
   "metadata": {
    "id": "loK2sFDtmhwW"
   },
   "outputs": [],
   "source": []
  },
  {
   "cell_type": "markdown",
   "metadata": {
    "id": "VhVhpErAjWpk"
   },
   "source": [
    "## Используемые метрики\n",
    "Тут могла быть ваша реклама"
   ]
  },
  {
   "cell_type": "code",
   "execution_count": null,
   "metadata": {
    "id": "ik2z94-rmo_Y"
   },
   "outputs": [],
   "source": []
  },
  {
   "cell_type": "markdown",
   "metadata": {
    "id": "xPpvDuiWlPC0"
   },
   "source": [
    "# KAN. Описание и имплементация"
   ]
  },
  {
   "cell_type": "markdown",
   "metadata": {
    "id": "KABtuaMYnlbH"
   },
   "source": [
    "## Описание\n",
    "Математическая справка?"
   ]
  },
  {
   "cell_type": "markdown",
   "metadata": {
    "id": "zR7qz5r_nr02"
   },
   "source": [
    "## Имплементация"
   ]
  },
  {
   "cell_type": "code",
   "execution_count": null,
   "metadata": {
    "id": "ibVVIKcXm2U0"
   },
   "outputs": [],
   "source": []
  },
  {
   "cell_type": "markdown",
   "metadata": {
    "id": "h7wWM4hpm3XC"
   },
   "source": [
    "# KAN vs MLP в базовых задачах"
   ]
  },
  {
   "cell_type": "code",
   "execution_count": null,
   "metadata": {
    "id": "dT3R7xVhnXCH"
   },
   "outputs": [],
   "source": []
  },
  {
   "cell_type": "markdown",
   "metadata": {
    "id": "jaAu16Qpn8mY"
   },
   "source": [
    "# GPT2"
   ]
  },
  {
   "cell_type": "code",
   "execution_count": 53,
   "metadata": {
    "id": "UG77Iy4zvQds"
   },
   "outputs": [],
   "source": [
    "import torch\n",
    "import torch.nn as nn\n",
    "from torch.nn import functional as F"
   ]
  },
  {
   "cell_type": "code",
   "execution_count": 54,
   "metadata": {
    "colab": {
     "base_uri": "https://localhost:8080/"
    },
    "id": "r19j7PyxzjRD",
    "outputId": "b4f26a09-18c4-41d9-b34d-3249021a6be4"
   },
   "outputs": [
    {
     "data": {
      "text/plain": [
       "<torch._C.Generator at 0x7b8b485ac850>"
      ]
     },
     "execution_count": 54,
     "metadata": {},
     "output_type": "execute_result"
    }
   ],
   "source": [
    "# hyperparameters\n",
    "BATCH_SIZE = 8\n",
    "BLOCK_SIZE = 32\n",
    "MAX_ITERS = 1\n",
    "EVAL_INTERVAL = 1\n",
    "LEARNING_RATE = 3e-4\n",
    "DEVICE = 'cuda' if torch.cuda.is_available() else 'cpu'\n",
    "EVAL_ITERS = 1\n",
    "N_EMBD = 128\n",
    "N_HEAD = 6 # D = 384 // 6\n",
    "N_LAYER = 6\n",
    "DROPOUT = 0.2\n",
    "# ------------\n",
    "\n",
    "torch.manual_seed(42)"
   ]
  },
  {
   "cell_type": "code",
   "execution_count": 55,
   "metadata": {
    "id": "2hZEa54gzpaf"
   },
   "outputs": [],
   "source": [
    "with open('input.txt', 'r', encoding='utf-8') as f:\n",
    "    text = f.read()\n",
    "\n",
    "chars = sorted(list(set(text)))\n",
    "VOCAB_SIZE = len(chars)\n",
    "stoi = { ch:i for i,ch in enumerate(chars) }\n",
    "itos = { i:ch for i,ch in enumerate(chars) }\n",
    "encode = lambda s: [stoi[c] for c in s]\n",
    "decode = lambda l: ''.join([itos[i] for i in l])\n"
   ]
  },
  {
   "cell_type": "code",
   "execution_count": 56,
   "metadata": {
    "id": "HIhreXFwzvDw"
   },
   "outputs": [],
   "source": [
    "data = torch.tensor(encode(text), dtype=torch.long)\n",
    "n = int(0.9*len(data))\n",
    "train_data = data[:n]\n",
    "val_data = data[n:]\n",
    "\n",
    "def get_batch(split):\n",
    "    data = train_data if split == 'train' else val_data\n",
    "    ix = torch.randint(len(data) - BLOCK_SIZE, (BATCH_SIZE,))\n",
    "    x = torch.stack([data[i:i+BLOCK_SIZE] for i in ix])\n",
    "    y = torch.stack([data[i+1:i+BLOCK_SIZE+1] for i in ix])\n",
    "    x, y = x.to(DEVICE), y.to(DEVICE)\n",
    "    return x, y"
   ]
  },
  {
   "cell_type": "code",
   "execution_count": 57,
   "metadata": {
    "id": "_J1208XQzxqQ"
   },
   "outputs": [],
   "source": [
    "@torch.no_grad()\n",
    "def estimate_loss():\n",
    "    out = {}\n",
    "    model.eval()\n",
    "    for split in ['train', 'val']:\n",
    "        losses = torch.zeros(EVAL_ITERS)\n",
    "        for k in range(EVAL_ITERS):\n",
    "            X, Y = get_batch(split)\n",
    "            logits, loss = model(X, Y)\n",
    "            losses[k] = loss.item()\n",
    "        out[split] = losses.mean()\n",
    "    model.train()\n",
    "    return out"
   ]
  },
  {
   "cell_type": "code",
   "execution_count": 58,
   "metadata": {
    "id": "64FnwsC_zzpz"
   },
   "outputs": [],
   "source": [
    "class Head(nn.Module):\n",
    "    \"\"\" one head of self-attention \"\"\"\n",
    "\n",
    "    def __init__(self, head_size):\n",
    "        super().__init__()\n",
    "        self.key = nn.Linear(N_EMBD, head_size, bias=False)\n",
    "        self.query = nn.Linear(N_EMBD, head_size, bias=False)\n",
    "        self.value = nn.Linear(N_EMBD, head_size, bias=False)\n",
    "        self.register_buffer('tril', torch.tril(torch.ones(BLOCK_SIZE, BLOCK_SIZE)))\n",
    "\n",
    "        self.dropout = nn.Dropout(DROPOUT)\n",
    "\n",
    "    def forward(self, x):\n",
    "        # input of size (B, T, C)\n",
    "        # output of size (B, T, D)\n",
    "        B,T,C = x.shape\n",
    "        k = self.key(x)   # (B,T,D)\n",
    "        q = self.query(x) # (B,T,D)\n",
    "        wei = q @ k.transpose(-2,-1) * k.shape[-1]**-0.5 # (B, T, D) @ (B, D, T) -> (B, T, T)\n",
    "        wei = wei.masked_fill(self.tril[:T, :T] == 0, float('-inf')) # (B, T, T)\n",
    "        wei = F.softmax(wei, dim=-1) # (B, T, T)\n",
    "        wei = self.dropout(wei)\n",
    "        v = self.value(x) # (B,T,D)\n",
    "        out = wei @ v # (B, T, T) @ (B, T, D) -> (B, T, D)\n",
    "        return out"
   ]
  },
  {
   "cell_type": "code",
   "execution_count": 59,
   "metadata": {
    "id": "A6eca51lz2_I"
   },
   "outputs": [],
   "source": [
    "class NaiveMultiHeadAttention(nn.Module):\n",
    "    \"\"\" multiple heads of self-attention in parallel \"\"\"\n",
    "\n",
    "    def __init__(self, num_heads, head_size):\n",
    "        super().__init__()\n",
    "        self.heads = nn.ModuleList([Head(head_size) for _ in range(num_heads)])\n",
    "        self.proj = nn.Linear(head_size * num_heads, n_embd)\n",
    "        self.dropout = nn.Dropout(DROPOUT)\n",
    "\n",
    "    def forward(self, x):\n",
    "        out = torch.cat([h(x) for h in self.heads], dim=-1)\n",
    "        out = self.dropout(self.proj(out))\n",
    "        return out"
   ]
  },
  {
   "cell_type": "code",
   "execution_count": 60,
   "metadata": {},
   "outputs": [],
   "source": [
    "class MultiHeadAttention(nn.Module):\n",
    "    def __init__(self, num_heads, head_size):\n",
    "        super().__init__()\n",
    "\n",
    "        self.D = head_size\n",
    "        self.H = num_heads\n",
    "        self.key = nn.Linear(N_EMBD, head_size * num_heads, bias=False)\n",
    "        self.query = nn.Linear(N_EMBD, head_size * num_heads, bias=False)\n",
    "        self.value = nn.Linear(N_EMBD, head_size * num_heads, bias=False)\n",
    "        self.register_buffer('tril', torch.tril(torch.ones(BLOCK_SIZE, BLOCK_SIZE)))\n",
    "        self.proj = nn.Linear(head_size * num_heads, N_EMBD)\n",
    "\n",
    "        self.dropout = nn.Dropout(DROPOUT)\n",
    "\n",
    "\n",
    "    def forward(self, x):\n",
    "        \n",
    "        B,T,C = x.shape\n",
    "        H = self.H\n",
    "        D = self.D\n",
    "\n",
    "        k = self.key(x).view(B, T, H, D)\n",
    "        q = self.query(x).view(B, T, H, D)\n",
    "        v = self.value(x).view(B, T, H, D)\n",
    "\n",
    "        k = k.permute(0, 2, 3, 1) \n",
    "        q = q.permute(0, 2, 1, 3)\n",
    "        v = v.permute(0, 2, 1, 3)\n",
    "\n",
    "        wei = q @ k * k.shape[-1]**-0.5\n",
    "\n",
    "        wei = wei.masked_fill_(self.tril[:T,:T] == 0, float('-inf'))\n",
    "        wei = F.softmax(wei, dim=-1)\n",
    "        wei = self.dropout(wei)\n",
    "\n",
    "        out = wei @ v\n",
    "        out = out.permute(0, 2, 1, 3).reshape(B, T, -1)\n",
    "\n",
    "        out = self.dropout(self.proj(out))\n",
    "        return x\n"
   ]
  },
  {
   "cell_type": "code",
   "execution_count": 61,
   "metadata": {
    "id": "QP5ka09oz6HK"
   },
   "outputs": [],
   "source": [
    "class FeedFoward(nn.Module):\n",
    "    \"\"\" a simple linear layer followed by a non-linearity \"\"\"\n",
    "\n",
    "    def __init__(self, n_embd):\n",
    "        super().__init__()\n",
    "        self.net = nn.Sequential(\n",
    "            nn.Linear(n_embd, 4 * n_embd),\n",
    "            nn.ReLU(),\n",
    "            nn.Linear(4 * n_embd, n_embd),\n",
    "            nn.Dropout(DROPOUT),\n",
    "        )\n",
    "\n",
    "    def forward(self, x):\n",
    "        return self.net(x)\n"
   ]
  },
  {
   "cell_type": "code",
   "execution_count": 62,
   "metadata": {
    "id": "in5r2XmXz8N9"
   },
   "outputs": [],
   "source": [
    "class Block(nn.Module):\n",
    "    \"\"\" Transformer block: communication followed by computation \"\"\"\n",
    "\n",
    "    def __init__(self, n_embd, n_head):\n",
    "        super().__init__()\n",
    "        head_size = n_embd // n_head\n",
    "        self.sa = MultiHeadAttention(n_head, head_size)\n",
    "        self.ffwd = FeedFoward(n_embd)\n",
    "        self.ln1 = nn.LayerNorm(n_embd)\n",
    "        self.ln2 = nn.LayerNorm(n_embd)\n",
    "\n",
    "    def forward(self, x):\n",
    "        x = x + self.sa(self.ln1(x))\n",
    "        x = x + self.ffwd(self.ln2(x))\n",
    "        return x"
   ]
  },
  {
   "cell_type": "code",
   "execution_count": 63,
   "metadata": {
    "id": "bqk8eOkHz-V2"
   },
   "outputs": [],
   "source": [
    "class GPTLanguageModel(nn.Module):\n",
    "\n",
    "    def __init__(self):\n",
    "        super().__init__()\n",
    "        self.token_embedding_table = nn.Embedding(VOCAB_SIZE, N_EMBD)\n",
    "        self.position_embedding_table = nn.Embedding(BLOCK_SIZE, N_EMBD)\n",
    "        self.blocks = nn.Sequential(*[Block(N_EMBD, n_head=N_HEAD) for _ in range(N_LAYER)])\n",
    "        self.ln_f = nn.LayerNorm(N_EMBD)\n",
    "        self.lm_head = nn.Linear(N_EMBD, VOCAB_SIZE)\n",
    "\n",
    "        self.apply(self._init_weights)\n",
    "\n",
    "    def _init_weights(self, module):\n",
    "        if isinstance(module, nn.Linear):\n",
    "            torch.nn.init.normal_(module.weight, mean=0.0, std=0.02)\n",
    "            if module.bias is not None:\n",
    "                torch.nn.init.zeros_(module.bias)\n",
    "        elif isinstance(module, nn.Embedding):\n",
    "            torch.nn.init.normal_(module.weight, mean=0.0, std=0.02)\n",
    "\n",
    "    def forward(self, idx, targets=None):\n",
    "        B, T = idx.shape\n",
    "\n",
    "        tok_emb = self.token_embedding_table(idx) # (B,T,C)\n",
    "        pos_emb = self.position_embedding_table(torch.arange(T, device=DEVICE)) # (T,C)\n",
    "        x = tok_emb + pos_emb # (B,T,C)\n",
    "        x = self.blocks(x) # (B,T,C)\n",
    "        x = self.ln_f(x) # (B,T,C)\n",
    "        logits = self.lm_head(x) # (B,T,vocab_size)\n",
    "\n",
    "        if targets is None:\n",
    "            loss = None\n",
    "        else:\n",
    "            B, T, C = logits.shape\n",
    "            logits = logits.view(B*T, C)\n",
    "            targets = targets.view(B*T)\n",
    "            loss = F.cross_entropy(logits, targets)\n",
    "\n",
    "        return logits, loss\n",
    "\n",
    "    def generate(self, idx, max_new_tokens):\n",
    "        for _ in range(max_new_tokens):\n",
    "            idx_cond = idx[:, -BLOCK_SIZE:]\n",
    "            logits, loss = self(idx_cond)\n",
    "            logits = logits[:, -1, :]\n",
    "            probs = F.softmax(logits, dim=-1)\n",
    "            idx_next = torch.multinomial(probs, num_samples=1)\n",
    "            idx = torch.cat((idx, idx_next), dim=1)\n",
    "        return idx"
   ]
  },
  {
   "cell_type": "code",
   "execution_count": 64,
   "metadata": {
    "colab": {
     "base_uri": "https://localhost:8080/"
    },
    "id": "k7wE3_FD0Coy",
    "outputId": "a29b7094-da7f-4a19-f0b4-3b5307bf705c"
   },
   "outputs": [
    {
     "name": "stdout",
     "output_type": "stream",
     "text": [
      "1.199928 M parameters\n"
     ]
    }
   ],
   "source": [
    "model = GPTLanguageModel()\n",
    "m = model.to(DEVICE)\n",
    "print(sum(p.numel() for p in m.parameters())/1e6, 'M parameters')"
   ]
  },
  {
   "cell_type": "code",
   "execution_count": 65,
   "metadata": {
    "colab": {
     "background_save": true,
     "base_uri": "https://localhost:8080/"
    },
    "id": "NxB-pom00Fdk",
    "outputId": "65a6aef4-8070-467b-aff5-06a8b815994a"
   },
   "outputs": [
    {
     "name": "stdout",
     "output_type": "stream",
     "text": [
      "step 0: train loss 4.0531, val loss 4.0127\n"
     ]
    }
   ],
   "source": [
    "optimizer = torch.optim.AdamW(model.parameters(), lr=LEARNING_RATE)\n",
    "\n",
    "for iter in range(MAX_ITERS):\n",
    "\n",
    "    if iter % EVAL_INTERVAL == 0 or iter == MAX_ITERS - 1:\n",
    "        losses = estimate_loss()\n",
    "        print(f\"step {iter}: train loss {losses['train']:.4f}, val loss {losses['val']:.4f}\")\n",
    "\n",
    "    xb, yb = get_batch('train')\n",
    "\n",
    "    logits, loss = model(xb, yb)\n",
    "    optimizer.zero_grad(set_to_none=True)\n",
    "    loss.backward()\n",
    "    optimizer.step()"
   ]
  },
  {
   "cell_type": "code",
   "execution_count": 66,
   "metadata": {
    "colab": {
     "background_save": true
    },
    "id": "I6brfGxe0KVY"
   },
   "outputs": [
    {
     "name": "stdout",
     "output_type": "stream",
     "text": [
      "\n",
      ";» я»гОСиВ:К-Х«СИ—ьчТ-ыыЧдС!Вхс,гтжнС?эХИцА—зсИчы..юнчэсвеТ,чзшХухг-дОНПиуюдХПсСевНунжИ?дьлтёыбс;АэХХгХш,Мрозю:;ижпЧц;вбК ооуь\n",
      "и;т»ТйпЧёкч»НПеАинтэНку«д-кед-яцбЛц;ЧНзйя?ц«дя«яЛОм,Ии«.ЛОов\n",
      "я«ч»рг?к—оышмВТ:Олёп?.с;чвсВ».учКхцНг?оэУЧНп;э-ТйоТ-СлоеУКО.у.с: .—рди—жунусА юз ,:хю.уйУ»ы;тцюувдэс?свэдт\n",
      "зяАИмз.,ЛеКЛшАмМдтс»яп,ьНввН;у—х«гКи?ч»НВЛа»Пя\n",
      "?,,д пХвЧвпхПйАйы»;уёХУНтМ\n",
      "ьМрваК\n",
      "ипЛюьугиКПОм Л:УКуКнМмэвСш—оИ ыСч»ьз;б—лы,;КЛ-и,ТвАп:пи»Нп Птти уннОыеУяух;лёжьч\n",
      "юыкцчКЛ р—кмоупсолшнаВКы\n",
      "!х,йи—эитоля-цО;юТ\n"
     ]
    }
   ],
   "source": [
    "# generate from the model\n",
    "context = torch.zeros((1, 1), dtype=torch.long, device=DEVICE)\n",
    "print(decode(m.generate(context, max_new_tokens=500)[0].tolist()))"
   ]
  },
  {
   "cell_type": "markdown",
   "metadata": {
    "id": "esPGlXxNnXcv",
    "jp-MarkdownHeadingCollapsed": true
   },
   "source": [
    "# KAN vs MLP в контесте GPT2"
   ]
  },
  {
   "cell_type": "code",
   "execution_count": null,
   "metadata": {
    "id": "dGy0BZTHnhT8"
   },
   "outputs": [],
   "source": []
  }
 ],
 "metadata": {
  "colab": {
   "authorship_tag": "ABX9TyMkn29HA3n5WxGpxuEPykOx",
   "include_colab_link": true,
   "provenance": []
  },
  "kernelspec": {
   "display_name": "Python 3 (ipykernel)",
   "language": "python",
   "name": "python3"
  },
  "language_info": {
   "codemirror_mode": {
    "name": "ipython",
    "version": 3
   },
   "file_extension": ".py",
   "mimetype": "text/x-python",
   "name": "python",
   "nbconvert_exporter": "python",
   "pygments_lexer": "ipython3",
   "version": "3.10.12"
  }
 },
 "nbformat": 4,
 "nbformat_minor": 4
}
