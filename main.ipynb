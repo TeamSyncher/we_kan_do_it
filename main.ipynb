{
  "nbformat": 4,
  "nbformat_minor": 0,
  "metadata": {
    "colab": {
      "provenance": [],
      "authorship_tag": "ABX9TyMkn29HA3n5WxGpxuEPykOx",
      "include_colab_link": true
    },
    "kernelspec": {
      "name": "python3",
      "display_name": "Python 3"
    },
    "language_info": {
      "name": "python"
    }
  },
  "cells": [
    {
      "cell_type": "markdown",
      "metadata": {
        "id": "view-in-github",
        "colab_type": "text"
      },
      "source": [
        "<a href=\"https://colab.research.google.com/github/mmmhdp/we_kan_do_it/blob/dev/main.ipynb\" target=\"_parent\"><img src=\"https://colab.research.google.com/assets/colab-badge.svg\" alt=\"Open In Colab\"/></a>"
      ]
    },
    {
      "cell_type": "markdown",
      "source": [
        "<p align=\"center\">\n",
        "  <h1 align=\"center\"></h1>\n",
        "  <h1 align=\"center\">GPT2 c KAN слоями. Тех разбор</h1>\n",
        "  <p align=\"center\">\n",
        "    <a href=\"https://github.com/mmmhdp\">Мальцев Никита</a>\n",
        "    ·\n",
        "    <a href=\"https://github.com/anyhhope\">Надежда Анисимова</a>\n",
        "    ·\n",
        "    <a href=\"https://github.com/TeamSyncher\">Ярослав Исаков</a>\n",
        "    ·\n",
        "    <a href=\"https://github.com/staryarych\">Ярослав Столбовский</a>\n",
        "    ·\n",
        "    <a href=\"https://github.com/Mariiiiiiiia\">Мария Бородкина</a>\n",
        "    \n",
        "</p>\n",
        "   <h3 align=\"center\">\n",
        "        <a href=\"https://github.com/mmmhdp/we_kan_do_it\">GitHub</a> |\n",
        "        <a href=\"https://www.loom.com/share/7a8caa786faf4b74bfa99fe040e9f549\">Video Presentation</a> |\n",
        "        <a href=\"\">Raw Presentation</a>\n",
        "   </h3>\n",
        "  <div align=\"center\"></div>\n",
        "</p>"
      ],
      "metadata": {
        "id": "bPc7pBJ7a9DI"
      }
    },
    {
      "cell_type": "markdown",
      "source": [
        "# Введение\n",
        "краткое введение"
      ],
      "metadata": {
        "id": "D7tpA-HIlYcN"
      }
    },
    {
      "cell_type": "markdown",
      "source": [
        "## Постановка задачи\n",
        "- Имплементировать KAN.\n",
        "- Оценить рост эффективности KAN в сравнении с MLP на базовых задачах.\n",
        "- Оценить рост эффективности работы GPT2 модели по ряду выбранных метрик, если будет произведен замена MLP слоя на KAN слой."
      ],
      "metadata": {
        "id": "RshOoPFEh96b"
      }
    },
    {
      "cell_type": "code",
      "source": [],
      "metadata": {
        "id": "h7m4-AzomgD2"
      },
      "execution_count": null,
      "outputs": []
    },
    {
      "cell_type": "markdown",
      "source": [
        "## Описание используемых данных\n",
        "Тут могла быть ваша реклама"
      ],
      "metadata": {
        "id": "-5y39ftjilEb"
      }
    },
    {
      "cell_type": "code",
      "source": [],
      "metadata": {
        "id": "i1XMycKnmhCk"
      },
      "execution_count": null,
      "outputs": []
    },
    {
      "cell_type": "markdown",
      "source": [
        "### Предобработка данных\n",
        "Тут могла быть ваша реклама\n"
      ],
      "metadata": {
        "id": "QYwjzPL7jXWY"
      }
    },
    {
      "cell_type": "code",
      "source": [],
      "metadata": {
        "id": "zlOL1TVHmn7Q"
      },
      "execution_count": null,
      "outputs": []
    },
    {
      "cell_type": "markdown",
      "source": [
        "### Токенизация\n",
        "Тут могла быть ваша реклама\n"
      ],
      "metadata": {
        "id": "lXqrOPqTmjvS"
      }
    },
    {
      "cell_type": "code",
      "source": [],
      "metadata": {
        "id": "cNxsm71Xmm63"
      },
      "execution_count": null,
      "outputs": []
    },
    {
      "cell_type": "markdown",
      "source": [
        "### Разбиение на выборки\n",
        "Тут могла быть ваша реклама"
      ],
      "metadata": {
        "id": "2GgnobpgmmB1"
      }
    },
    {
      "cell_type": "code",
      "source": [],
      "metadata": {
        "id": "loK2sFDtmhwW"
      },
      "execution_count": null,
      "outputs": []
    },
    {
      "cell_type": "markdown",
      "source": [
        "## Используемые метрики\n",
        "Тут могла быть ваша реклама"
      ],
      "metadata": {
        "id": "VhVhpErAjWpk"
      }
    },
    {
      "cell_type": "code",
      "source": [],
      "metadata": {
        "id": "ik2z94-rmo_Y"
      },
      "execution_count": null,
      "outputs": []
    },
    {
      "cell_type": "markdown",
      "source": [
        "# KAN. Описание и имплементация"
      ],
      "metadata": {
        "id": "xPpvDuiWlPC0"
      }
    },
    {
      "cell_type": "markdown",
      "source": [
        "## Описание\n",
        "Математическая справка?"
      ],
      "metadata": {
        "id": "KABtuaMYnlbH"
      }
    },
    {
      "cell_type": "markdown",
      "source": [
        "## Имплементация"
      ],
      "metadata": {
        "id": "zR7qz5r_nr02"
      }
    },
    {
      "cell_type": "code",
      "source": [],
      "metadata": {
        "id": "ibVVIKcXm2U0"
      },
      "execution_count": null,
      "outputs": []
    },
    {
      "cell_type": "markdown",
      "source": [
        "# KAN vs MLP в базовых задачах"
      ],
      "metadata": {
        "id": "h7wWM4hpm3XC"
      }
    },
    {
      "cell_type": "code",
      "source": [],
      "metadata": {
        "id": "dT3R7xVhnXCH"
      },
      "execution_count": null,
      "outputs": []
    },
    {
      "cell_type": "markdown",
      "source": [
        "# GPT2"
      ],
      "metadata": {
        "id": "jaAu16Qpn8mY"
      }
    },
    {
      "cell_type": "code",
      "source": [],
      "metadata": {
        "id": "w5kjIJd9oB9A"
      },
      "execution_count": null,
      "outputs": []
    },
    {
      "cell_type": "markdown",
      "source": [
        "# KAN vs MLP в контесте GPT2"
      ],
      "metadata": {
        "id": "esPGlXxNnXcv"
      }
    },
    {
      "cell_type": "code",
      "source": [],
      "metadata": {
        "id": "dGy0BZTHnhT8"
      },
      "execution_count": null,
      "outputs": []
    }
  ]
}